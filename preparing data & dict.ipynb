{
 "cells": [
  {
   "cell_type": "code",
   "execution_count": 1,
   "id": "a752af0d-d392-4eea-9fd8-372c01215fc0",
   "metadata": {},
   "outputs": [],
   "source": [
    "from multiprocessing import Pool\n",
    "from tqdm.notebook import tqdm\n",
    "import numpy as np\n",
    "\n",
    "from modules.udpipe_preprocessing import preprocess\n",
    "\n",
    "n_cpus = 24\n",
    "\n",
    "batch_size = 24_000"
   ]
  },
  {
   "cell_type": "code",
   "execution_count": 8,
   "id": "69134b8d-5f9b-4226-acc4-23ead4a0fd9c",
   "metadata": {},
   "outputs": [],
   "source": [
    "def preprocess_batch(batch):\n",
    "    return [' '.join(preprocess(text)) + '\\n' for text in batch]"
   ]
  },
  {
   "cell_type": "code",
   "execution_count": 9,
   "id": "fb24a733-bcbf-4af9-8ccd-8c1c42e58a8b",
   "metadata": {
    "tags": []
   },
   "outputs": [
    {
     "data": {
      "application/vnd.jupyter.widget-view+json": {
       "model_id": "8eb0e508f12c49f8ba716cb7a246789b",
       "version_major": 2,
       "version_minor": 0
      },
      "text/plain": [
       "  0%|          | 0/8796201 [00:00<?, ?it/s]"
      ]
     },
     "metadata": {},
     "output_type": "display_data"
    }
   ],
   "source": [
    "with open('../LM-experiments_2/joined_news_long_texts_8796201_293713268.txt') as f, open('joined_news_long_texts_udpipe_short.txt', 'w') as fw, Pool(n_cpus) as p, tqdm(total=8796201) as pbar:\n",
    "    line = f.readline()\n",
    "    buffer = []\n",
    "    while line:\n",
    "        buffer.append(line)\n",
    "        if len(buffer) == batch_size:\n",
    "            spl = np.array_split(buffer, 24)\n",
    "            udpiped = p.map(preprocess_batch, spl)\n",
    "            for s in udpiped:\n",
    "                fw.writelines(s)\n",
    "            buffer = []\n",
    "            pbar.update(batch_size)\n",
    "        line = f.readline()\n",
    "    spl = np.array_split(buffer, 24)\n",
    "    udpiped = p.map(preprocess_batch, spl)\n",
    "    for s in udpiped:\n",
    "        fw.writelines(s)\n",
    "    pbar.update(len(buffer))"
   ]
  },
  {
   "cell_type": "code",
   "execution_count": 10,
   "id": "be8f79f5-2784-4670-9c9d-80eeba3809d8",
   "metadata": {
    "collapsed": true,
    "jupyter": {
     "outputs_hidden": true
    },
    "tags": []
   },
   "outputs": [
    {
     "data": {
      "application/vnd.jupyter.widget-view+json": {
       "model_id": "d6404bb4cfc34c99940fc045e1c70901",
       "version_major": 2,
       "version_minor": 0
      },
      "text/plain": [
       "  0%|          | 0/8796201 [00:00<?, ?it/s]"
      ]
     },
     "metadata": {},
     "output_type": "display_data"
    },
    {
     "ename": "KeyboardInterrupt",
     "evalue": "",
     "output_type": "error",
     "traceback": [
      "\u001b[0;31m---------------------------------------------------------------------------\u001b[0m",
      "\u001b[0;31mKeyboardInterrupt\u001b[0m                         Traceback (most recent call last)",
      "Cell \u001b[0;32mIn[10], line 10\u001b[0m\n\u001b[1;32m      8\u001b[0m \u001b[38;5;28;01mwhile\u001b[39;00m line:\n\u001b[1;32m      9\u001b[0m     tokens \u001b[38;5;241m=\u001b[39m line\u001b[38;5;241m.\u001b[39mstrip()\u001b[38;5;241m.\u001b[39msplit()\n\u001b[0;32m---> 10\u001b[0m     vocab_counter \u001b[38;5;241m+\u001b[39m\u001b[38;5;241m=\u001b[39m Counter(tokens)\n\u001b[1;32m     11\u001b[0m     pbar\u001b[38;5;241m.\u001b[39mupdate()\n\u001b[1;32m     12\u001b[0m     line \u001b[38;5;241m=\u001b[39m f\u001b[38;5;241m.\u001b[39mreadline()\n",
      "File \u001b[0;32m/media/fast_data/anaconda/lib/python3.10/collections/__init__.py:906\u001b[0m, in \u001b[0;36mCounter.__iadd__\u001b[0;34m(self, other)\u001b[0m\n\u001b[1;32m    904\u001b[0m \u001b[38;5;28;01mfor\u001b[39;00m elem, count \u001b[38;5;129;01min\u001b[39;00m other\u001b[38;5;241m.\u001b[39mitems():\n\u001b[1;32m    905\u001b[0m     \u001b[38;5;28mself\u001b[39m[elem] \u001b[38;5;241m+\u001b[39m\u001b[38;5;241m=\u001b[39m count\n\u001b[0;32m--> 906\u001b[0m \u001b[38;5;28;01mreturn\u001b[39;00m \u001b[38;5;28;43mself\u001b[39;49m\u001b[38;5;241;43m.\u001b[39;49m\u001b[43m_keep_positive\u001b[49m\u001b[43m(\u001b[49m\u001b[43m)\u001b[49m\n",
      "File \u001b[0;32m/media/fast_data/anaconda/lib/python3.10/collections/__init__.py:890\u001b[0m, in \u001b[0;36mCounter._keep_positive\u001b[0;34m(self)\u001b[0m\n\u001b[1;32m    888\u001b[0m \u001b[38;5;28;01mdef\u001b[39;00m \u001b[38;5;21m_keep_positive\u001b[39m(\u001b[38;5;28mself\u001b[39m):\n\u001b[1;32m    889\u001b[0m \u001b[38;5;250m    \u001b[39m\u001b[38;5;124;03m'''Internal method to strip elements with a negative or zero count'''\u001b[39;00m\n\u001b[0;32m--> 890\u001b[0m     nonpositive \u001b[38;5;241m=\u001b[39m [elem \u001b[38;5;28;01mfor\u001b[39;00m elem, count \u001b[38;5;129;01min\u001b[39;00m \u001b[38;5;28mself\u001b[39m\u001b[38;5;241m.\u001b[39mitems() \u001b[38;5;28;01mif\u001b[39;00m \u001b[38;5;129;01mnot\u001b[39;00m count \u001b[38;5;241m>\u001b[39m \u001b[38;5;241m0\u001b[39m]\n\u001b[1;32m    891\u001b[0m     \u001b[38;5;28;01mfor\u001b[39;00m elem \u001b[38;5;129;01min\u001b[39;00m nonpositive:\n\u001b[1;32m    892\u001b[0m         \u001b[38;5;28;01mdel\u001b[39;00m \u001b[38;5;28mself\u001b[39m[elem]\n",
      "File \u001b[0;32m/media/fast_data/anaconda/lib/python3.10/collections/__init__.py:890\u001b[0m, in \u001b[0;36m<listcomp>\u001b[0;34m(.0)\u001b[0m\n\u001b[1;32m    888\u001b[0m \u001b[38;5;28;01mdef\u001b[39;00m \u001b[38;5;21m_keep_positive\u001b[39m(\u001b[38;5;28mself\u001b[39m):\n\u001b[1;32m    889\u001b[0m \u001b[38;5;250m    \u001b[39m\u001b[38;5;124;03m'''Internal method to strip elements with a negative or zero count'''\u001b[39;00m\n\u001b[0;32m--> 890\u001b[0m     nonpositive \u001b[38;5;241m=\u001b[39m [elem \u001b[38;5;28;01mfor\u001b[39;00m elem, count \u001b[38;5;129;01min\u001b[39;00m \u001b[38;5;28mself\u001b[39m\u001b[38;5;241m.\u001b[39mitems() \u001b[38;5;28;01mif\u001b[39;00m \u001b[38;5;129;01mnot\u001b[39;00m count \u001b[38;5;241m>\u001b[39m \u001b[38;5;241m0\u001b[39m]\n\u001b[1;32m    891\u001b[0m     \u001b[38;5;28;01mfor\u001b[39;00m elem \u001b[38;5;129;01min\u001b[39;00m nonpositive:\n\u001b[1;32m    892\u001b[0m         \u001b[38;5;28;01mdel\u001b[39;00m \u001b[38;5;28mself\u001b[39m[elem]\n",
      "\u001b[0;31mKeyboardInterrupt\u001b[0m: "
     ]
    }
   ],
   "source": [
    "from tqdm.notebook import tqdm\n",
    "from collections import Counter \n",
    "\n",
    "vocab_counter = Counter()\n",
    "\n",
    "with open('joined_news_long_texts_udpipe_short.txt') as f, tqdm(total=8796201) as pbar:\n",
    "    line = f.readline()\n",
    "    while line:\n",
    "        tokens = line.strip().split()\n",
    "        vocab_counter += Counter(tokens)\n",
    "        pbar.update()\n",
    "        line = f.readline()"
   ]
  },
  {
   "cell_type": "code",
   "execution_count": 11,
   "id": "965a9170-7ad5-4993-bd1a-957a362f0dbc",
   "metadata": {},
   "outputs": [
    {
     "data": {
      "text/plain": [
       "388267"
      ]
     },
     "execution_count": 11,
     "metadata": {},
     "output_type": "execute_result"
    }
   ],
   "source": [
    "len(vocab_counter)"
   ]
  },
  {
   "cell_type": "code",
   "execution_count": 12,
   "id": "0cfc46d6-4892-4ebe-9e8e-a013a7eda7f7",
   "metadata": {},
   "outputs": [],
   "source": [
    "import pandas as pd"
   ]
  },
  {
   "cell_type": "code",
   "execution_count": 15,
   "id": "baa23a28-0a64-4688-8bac-0162632a988a",
   "metadata": {},
   "outputs": [],
   "source": [
    "vocab_counter = pd.Series(vocab_counter)"
   ]
  },
  {
   "cell_type": "code",
   "execution_count": 19,
   "id": "70ed8e03-1c86-4c2d-b187-c4f11a434222",
   "metadata": {},
   "outputs": [],
   "source": [
    "vocab_counter = vocab_counter.sort_values(ascending=False)"
   ]
  },
  {
   "cell_type": "code",
   "execution_count": 29,
   "id": "cd833878-5557-4ac0-9031-9b1c935ea7ef",
   "metadata": {},
   "outputs": [
    {
     "data": {
      "text/plain": [
       "(53075,)"
      ]
     },
     "execution_count": 29,
     "metadata": {},
     "output_type": "execute_result"
    }
   ],
   "source": [
    "vocab_counter[vocab_counter > 10].shape"
   ]
  },
  {
   "cell_type": "code",
   "execution_count": 32,
   "id": "66d10b9a-6a14-4862-b5a0-6b86af505c8d",
   "metadata": {},
   "outputs": [],
   "source": [
    "vocab = vocab_counter[vocab_counter > 10].index.tolist()"
   ]
  },
  {
   "cell_type": "code",
   "execution_count": 34,
   "id": "0a008cde-0f0b-49a0-b0cd-d884ccd4c6e3",
   "metadata": {},
   "outputs": [],
   "source": [
    "with open('vocab.txt', 'w') as f:\n",
    "    f.write('<S>\\n</S>\\n<UNK>\\n')\n",
    "    for token in vocab:\n",
    "        f.write(token)\n",
    "        f.write('\\n')"
   ]
  },
  {
   "cell_type": "code",
   "execution_count": 35,
   "id": "c749aac1-9c76-477c-8f3f-3fdb435328d6",
   "metadata": {},
   "outputs": [],
   "source": [
    "vocab_counter = vocab_counter[vocab_counter > 10]"
   ]
  },
  {
   "cell_type": "code",
   "execution_count": 38,
   "id": "eab8c718-7c61-4cca-9115-7e4836aa1664",
   "metadata": {},
   "outputs": [
    {
     "data": {
      "text/plain": [
       "(20567,)"
      ]
     },
     "execution_count": 38,
     "metadata": {},
     "output_type": "execute_result"
    }
   ],
   "source": [
    "vocab_counter[vocab_counter > 50].shape"
   ]
  },
  {
   "cell_type": "code",
   "execution_count": null,
   "id": "195223b9-5197-446f-bf02-d60deb6d1b2a",
   "metadata": {},
   "outputs": [],
   "source": []
  },
  {
   "cell_type": "code",
   "execution_count": null,
   "id": "d49b489e-c1b5-491a-a47c-cb9c24381da5",
   "metadata": {},
   "outputs": [],
   "source": []
  },
  {
   "cell_type": "code",
   "execution_count": null,
   "id": "a662afd0-331f-4a7b-9c3b-442dfb01d9be",
   "metadata": {},
   "outputs": [],
   "source": []
  },
  {
   "cell_type": "code",
   "execution_count": null,
   "id": "6481478c-b6a8-4e2d-aca8-c703a2972d93",
   "metadata": {},
   "outputs": [],
   "source": []
  },
  {
   "cell_type": "code",
   "execution_count": null,
   "id": "1d1ae5f6-0efd-4fe1-b5fd-7bb2616c89fa",
   "metadata": {},
   "outputs": [],
   "source": []
  },
  {
   "cell_type": "code",
   "execution_count": null,
   "id": "7ebaa883-b36b-4925-b1e7-d63e8cb4f1fe",
   "metadata": {},
   "outputs": [],
   "source": []
  }
 ],
 "metadata": {
  "kernelspec": {
   "display_name": "Python 3 (ipykernel)",
   "language": "python",
   "name": "python3"
  },
  "language_info": {
   "codemirror_mode": {
    "name": "ipython",
    "version": 3
   },
   "file_extension": ".py",
   "mimetype": "text/x-python",
   "name": "python",
   "nbconvert_exporter": "python",
   "pygments_lexer": "ipython3",
   "version": "3.10.9"
  }
 },
 "nbformat": 4,
 "nbformat_minor": 5
}

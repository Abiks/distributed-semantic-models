{
 "cells": [
  {
   "cell_type": "code",
   "execution_count": 1,
   "metadata": {
    "tags": []
   },
   "outputs": [
    {
     "data": {
      "text/plain": [
       "<torch._C.Generator at 0x7f4dc79ec510>"
      ]
     },
     "execution_count": 1,
     "metadata": {},
     "output_type": "execute_result"
    }
   ],
   "source": [
    "import torch \n",
    "from modules.crf_model import CRFModel\n",
    "import pytorch_lightning as pl\n",
    "\n",
    "from pathlib import Path\n",
    "torch.set_float32_matmul_precision('medium')\n",
    "\n",
    "torch.manual_seed(10)"
   ]
  },
  {
   "cell_type": "code",
   "execution_count": 2,
   "metadata": {},
   "outputs": [],
   "source": [
    "from modules.ner_tasks import RUSSIAN\n",
    "from modules.ner_data import get_dataloaders\n",
    "\n",
    "\n",
    "ner_task = RUSSIAN['WikiNeural']"
   ]
  },
  {
   "cell_type": "code",
   "execution_count": 3,
   "metadata": {
    "tags": []
   },
   "outputs": [],
   "source": [
    "train_dataloader, val_dataloader, test_dataloader = get_dataloaders(\n",
    "    ner_task,\n",
    "    batch_size=128,\n",
    "    num_workers=24,\n",
    "    pin_memory=True\n",
    ")"
   ]
  },
  {
   "cell_type": "code",
   "execution_count": 4,
   "metadata": {
    "tags": []
   },
   "outputs": [],
   "source": [
    "from tqdm.notebook import tqdm"
   ]
  },
  {
   "cell_type": "code",
   "execution_count": 5,
   "metadata": {},
   "outputs": [],
   "source": [
    "from modules.vectorizer import BidirectionalLM\n",
    "\n",
    "model_params = {\n",
    "    'num_layers': 2, \n",
    "    'hidden_size': 2048,\n",
    "    'sru_attn_proj_size': 1024,\n",
    "    'attention_last_n_layers': 0\n",
    "}\n",
    "\n",
    "vectorizer = BidirectionalLM(\n",
    "    vocab_size=None, \n",
    "    model_params=model_params, \n",
    "    learning_rate=0.001, \n",
    "    cutoffs=[20_000, 50_000],\n",
    "    elmo_options_file='../Elmo-taiga/options.json', \n",
    "    elmo_weight_file='../Elmo-taiga/model.hdf5',\n",
    ")\n",
    "\n",
    "vectorizer.load_state_dict(torch.load(\n",
    "    'elmo_lstm_2lrs_checkpoints/epoch=0-step=9162.ckpt'\n",
    ")['state_dict'], strict=False)\n",
    "vectorizer.freeze()"
   ]
  },
  {
   "cell_type": "code",
   "execution_count": null,
   "metadata": {
    "tags": []
   },
   "outputs": [
    {
     "name": "stderr",
     "output_type": "stream",
     "text": [
      "GPU available: True (cuda), used: True\n",
      "TPU available: False, using: 0 TPU cores\n",
      "IPU available: False, using: 0 IPUs\n",
      "HPU available: False, using: 0 HPUs\n",
      "/media/fast_data/anaconda/lib/python3.10/site-packages/pytorch_lightning/trainer/configuration_validator.py:72: PossibleUserWarning: You defined a `validation_step` but have no `val_dataloader`. Skipping val loop.\n",
      "  rank_zero_warn(\n",
      "LOCAL_RANK: 0 - CUDA_VISIBLE_DEVICES: [0]\n",
      "\n",
      "  | Name       | Type            | Params\n",
      "-----------------------------------------------\n",
      "0 | vectorizer | BidirectionalLM | 129 M \n",
      "1 | lstm       | LSTM            | 1.4 M \n",
      "2 | relu       | ReLU            | 0     \n",
      "3 | line       | Linear          | 2.2 K \n",
      "4 | crf        | CRF             | 99    \n",
      "-----------------------------------------------\n",
      "1.4 M     Trainable params\n",
      "129 M     Non-trainable params\n",
      "130 M     Total params\n",
      "522.814   Total estimated model params size (MB)\n"
     ]
    },
    {
     "data": {
      "application/vnd.jupyter.widget-view+json": {
       "model_id": "66594cb35e864260b480c23e2907a00d",
       "version_major": 2,
       "version_minor": 0
      },
      "text/plain": [
       "Training: 0it [00:00, ?it/s]"
      ]
     },
     "metadata": {},
     "output_type": "display_data"
    }
   ],
   "source": [
    "\n",
    "vectorizer.emb_size = 1024\n",
    "ner_model = CRFModel(\n",
    "    ner_labels=ner_task['labels_vocab'], \n",
    "    vectorizer=vectorizer, \n",
    "    weight_decay=0, \n",
    "    learning_rate=1e-3\n",
    ")\n",
    "\n",
    "trainer = pl.Trainer(\n",
    "    accelerator='gpu', \n",
    "    gradient_clip_val=10.5, \n",
    "    max_epochs=5, \n",
    ")\n",
    "\n",
    "trainer.fit(ner_model, train_dataloader)"
   ]
  },
  {
   "cell_type": "code",
   "execution_count": null,
   "metadata": {},
   "outputs": [],
   "source": [
    "trainer.validate(ner_model, test_dataloader)"
   ]
  },
  {
   "cell_type": "code",
   "execution_count": null,
   "metadata": {},
   "outputs": [],
   "source": []
  }
 ],
 "metadata": {
  "kernelspec": {
   "display_name": "Python 3 (ipykernel)",
   "language": "python",
   "name": "python3"
  },
  "language_info": {
   "codemirror_mode": {
    "name": "ipython",
    "version": 3
   },
   "file_extension": ".py",
   "mimetype": "text/x-python",
   "name": "python",
   "nbconvert_exporter": "python",
   "pygments_lexer": "ipython3",
   "version": "3.10.9"
  }
 },
 "nbformat": 4,
 "nbformat_minor": 4
}

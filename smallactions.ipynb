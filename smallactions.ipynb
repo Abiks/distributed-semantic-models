{
 "cells": [
  {
   "cell_type": "markdown",
   "id": "7a8ffc37-5297-45e2-9e8a-c8c4cfff9256",
   "metadata": {},
   "source": [
    "Save ELMO state dicts"
   ]
  },
  {
   "cell_type": "code",
   "execution_count": 2,
   "id": "4f30591f-b7eb-49e0-83ee-38626ffd8aa0",
   "metadata": {},
   "outputs": [],
   "source": [
    "from allennlp.modules.elmo import Elmo\n",
    "elmo = Elmo(\n",
    "    options_file='../Elmo-taiga/options.json',\n",
    "    weight_file='../Elmo-taiga/model.hdf5',\n",
    "    num_output_representations=1,\n",
    ")"
   ]
  },
  {
   "cell_type": "code",
   "execution_count": 5,
   "id": "343d2f47-74c0-4738-a525-869efc42b593",
   "metadata": {},
   "outputs": [],
   "source": [
    "char_cnn = elmo._elmo_lstm._token_embedder"
   ]
  },
  {
   "cell_type": "code",
   "execution_count": 6,
   "id": "c6446c63-080b-4341-b92a-94c640d13011",
   "metadata": {},
   "outputs": [],
   "source": [
    "import torch"
   ]
  },
  {
   "cell_type": "code",
   "execution_count": 8,
   "id": "9485acc8-8c1d-430a-8d83-09273a41a651",
   "metadata": {},
   "outputs": [],
   "source": [
    "torch.save(char_cnn.state_dict(), 'elmo_charcnn.state_dict')"
   ]
  },
  {
   "cell_type": "code",
   "execution_count": null,
   "id": "ed921b5b-256b-4b22-8806-d08e133470dc",
   "metadata": {},
   "outputs": [],
   "source": [
    "elmo"
   ]
  },
  {
   "cell_type": "code",
   "execution_count": null,
   "id": "936f0645-f44e-45ee-85eb-680a740dddd0",
   "metadata": {},
   "outputs": [],
   "source": []
  },
  {
   "cell_type": "code",
   "execution_count": null,
   "id": "ea96d235-b43f-4d3f-8b2a-2a1aaa98516c",
   "metadata": {},
   "outputs": [],
   "source": []
  }
 ],
 "metadata": {
  "kernelspec": {
   "display_name": "Python 3 (ipykernel)",
   "language": "python",
   "name": "python3"
  },
  "language_info": {
   "codemirror_mode": {
    "name": "ipython",
    "version": 3
   },
   "file_extension": ".py",
   "mimetype": "text/x-python",
   "name": "python",
   "nbconvert_exporter": "python",
   "pygments_lexer": "ipython3",
   "version": "3.10.9"
  }
 },
 "nbformat": 4,
 "nbformat_minor": 5
}
